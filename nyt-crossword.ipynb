{
 "metadata": {
  "name": "",
  "signature": "sha256:8fc8d7cbe65a1b753f45b4192c8aa887a0cd49fc8aba28ac0e4ebccf7ee20228"
 },
 "nbformat": 3,
 "nbformat_minor": 0,
 "worksheets": [
  {
   "cells": [
    {
     "cell_type": "heading",
     "level": 1,
     "metadata": {},
     "source": [
      "New York Times Crossword Analysis"
     ]
    },
    {
     "cell_type": "code",
     "collapsed": false,
     "input": [
      "import os\n",
      "import pprint\n",
      "import pandas as pd\n",
      "import numpy as np\n",
      "import matplotlib.pyplot as plt\n",
      "from pylab import *\n",
      "%matplotlib inline\n",
      "from ggplot import *\n",
      "\n",
      "df = pd.read_csv(os.getcwd() + '/clues.txt',sep='\\t',dtype=str)"
     ],
     "language": "python",
     "metadata": {},
     "outputs": [],
     "prompt_number": 224
    },
    {
     "cell_type": "code",
     "collapsed": false,
     "input": [
      "df['clue'] = df['clue'].apply(str)\n",
      "df['ans'] = df['answer'].apply(str)\n",
      "df['ans'][df['ans']=='nan'] = 'NULL'\n",
      "\n",
      "df['clue_len'] = df['clue'].apply(str).apply(len)\n",
      "df['ans_len'] = df['answer'].apply(str).apply(len)\n",
      "\n",
      "df = df[df['ans_len'] > 2]"
     ],
     "language": "python",
     "metadata": {},
     "outputs": [],
     "prompt_number": 225
    },
    {
     "cell_type": "code",
     "collapsed": false,
     "input": [
      "grouped = df.groupby('answer',as_index=False)\n",
      "counts = grouped['answer'].agg({'counts': size})\n",
      "counts['ans_len'] = counts['answer'].apply(len)"
     ],
     "language": "python",
     "metadata": {},
     "outputs": [],
     "prompt_number": 197
    },
    {
     "cell_type": "code",
     "collapsed": false,
     "input": [
      "for i in xrange(3,25):\n",
      "    print 'The 5 most common* words with ' + str(i) + ' letters are:'\n",
      "    c = counts.ix[counts['ans_len']==i].sort('counts',ascending=False)\n",
      "    print c[['answer','counts']][0:5]\n",
      "print '* Note: there is no distinguishment between ties'"
     ],
     "language": "python",
     "metadata": {},
     "outputs": [
      {
       "output_type": "stream",
       "stream": "stdout",
       "text": [
        "The 5 most common* words with 3 letters are:\n",
        "      answer  counts\n",
        "22776    ERA     323\n",
        "22803    ERE     263\n",
        "49954    ONE     253\n",
        "21618    ELI     251\n",
        "2284     ALI     236\n",
        "\n",
        "[5 rows x 2 columns]\n",
        "The 5 most common* words with 4 letters are:\n",
        "      answer  counts\n",
        "4386    AREA     279\n",
        "22853   ERIE     214\n",
        "2637    ALOE     212\n",
        "21013   EDEN     205\n",
        "4494    ARIA     198\n",
        "\n",
        "[5 rows x 2 columns]\n",
        "The 5 most common* words with 5 letters are:\n",
        "      answer  counts\n",
        "4414   ARENA     156\n",
        "22783  ERASE     142\n",
        "21208  EERIE     129\n",
        "22516  ENTER     105\n",
        "35593  IRENE     104\n",
        "\n",
        "[5 rows x 2 columns]\n",
        "The 5 most common* words with 6 letters are:\n",
        "       answer  counts\n",
        "5507   ATEASE      63\n",
        "76091  TSETSE      62\n",
        "23144  ESTATE      59\n",
        "21453  ELAINE      48\n",
        "49128  ODESSA      47\n",
        "\n",
        "[5 rows x 2 columns]\n",
        "The 5 most common* words with 7 letters are:\n",
        "        answer  counts\n",
        "21513  ELEANOR      26\n",
        "23150  ESTATES      25\n",
        "2032   ALAMODE      24\n",
        "34624  INERTIA      24\n",
        "4927   ASARULE      23\n",
        "\n",
        "[5 rows x 2 columns]"
       ]
      },
      {
       "output_type": "stream",
       "stream": "stdout",
       "text": [
        "\n",
        "The 5 most common* words with 8 letters are:\n",
        "         answer  counts\n",
        "50128  ONEONONE      25\n",
        "2747   ALTEREGO      16\n",
        "4388   AREACODE      15\n",
        "2013   ALACARTE      15\n",
        "2640   ALOEVERA      15\n",
        "\n",
        "[5 rows x 2 columns]\n",
        "The 5 most common* words with 9 letters are:\n",
        "          answer  counts\n",
        "33531  IDONTCARE      10\n",
        "34369  INATRANCE       9\n",
        "71199  TALLORDER       9\n",
        "22854  ERIECANAL       8\n",
        "67224  SORELOSER       8\n",
        "\n",
        "[5 rows x 2 columns]\n",
        "The 5 most common* words with 10 letters are:\n",
        "           answer  counts\n",
        "50607  OPENSESAME      11\n",
        "36009  ITALIANICE       8\n",
        "19304  DONQUIXOTE       7\n",
        "49982  ONEATATIME       7\n",
        "23495  EVENSTEVEN       7\n",
        "\n",
        "[5 rows x 2 columns]\n",
        "The 5 most common* words with 11 letters are:\n",
        "            answer  counts\n",
        "53940  PIECEOFCAKE       6\n",
        "29547  GROUCHOMARX       5\n",
        "50794  ORANGEJUICE       5\n",
        "6828   BANANASPLIT       5\n",
        "26391  FREDASTAIRE       4\n",
        "\n",
        "[5 rows x 2 columns]\n",
        "The 5 most common* words with 12 letters are:\n",
        "             answer  counts\n",
        "64295  SHARPASATACK       4\n",
        "64655  SHOOTINGSTAR       4\n",
        "32208  HOMERSIMPSON       3\n",
        "25770  FLYINGSAUCER       3\n",
        "48117  NOPAINNOGAIN       3\n",
        "\n",
        "[5 rows x 2 columns]\n",
        "The 5 most common* words with 13 letters are:\n",
        "              answer  counts\n",
        "56940  QUIETONTHESET       5\n",
        "46991  NEILARMSTRONG       4\n",
        "67155  SOONERORLATER       4\n",
        "44773  MINTCONDITION       4\n",
        "74024  TIMEAFTERTIME       4\n",
        "\n",
        "[5 rows x 2 columns]"
       ]
      },
      {
       "output_type": "stream",
       "stream": "stdout",
       "text": [
        "\n",
        "The 5 most common* words with 14 letters are:\n",
        "               answer  counts\n",
        "4694   AROUNDTHECLOCK       3\n",
        "59552  RETURNTOSENDER       3\n",
        "6769   BALLPARKFRANKS       3\n",
        "12899  CHARIOTSOFFIRE       3\n",
        "40908  LISTENTOREASON       2\n",
        "\n",
        "[5 rows x 2 columns]\n",
        "The 5 most common* words with 15 letters are:\n",
        "                answer  counts\n",
        "43786  MEATANDPOTATOES       7\n",
        "2674   ALOTONONESPLATE       7\n",
        "21541  ELECTRICTOASTER       6\n",
        "1637   AGREETODISAGREE       6\n",
        "50103  ONEMOMENTPLEASE       6\n",
        "\n",
        "[5 rows x 2 columns]\n",
        "The 5 most common* words with 16 letters are:\n",
        "                 answer  counts\n",
        "52566  PASSINTERFERENCE       3\n",
        "73362  THETURNOFTHECREW       2\n",
        "81116  WRECKLESSDRIVING       2\n",
        "59863  RIDEANDPREJUDICE       2\n",
        "68178  SQUEALOFAPPROVAL       2\n",
        "\n",
        "[5 rows x 2 columns]\n",
        "The 5 most common* words with 17 letters are:\n",
        "                  answer  counts\n",
        "75237  TOWNWITHOUTPURITY       2\n",
        "3273   ANAMERICANINPARIS       2\n",
        "73051  THENAKEDANDTHEDEA       2\n",
        "81124  WRENSWALLOWSRAILS       1\n",
        "28754  GOODSAREWORTHLESS       1\n",
        "\n",
        "[5 rows x 2 columns]\n",
        "The 5 most common* words with 18 letters are:\n",
        "                   answer  counts\n",
        "18208  DIAMONDSAREFOREVER       2\n",
        "32399  HOPESPRINGSETERNAL       2\n",
        "30645  HATEYOUAWAYFROMTHE       1\n",
        "28595  GOLDBERGVARIATIONS       1\n",
        "28575  GOINGTOBEARELATIVE       1\n",
        "\n",
        "[5 rows x 2 columns]"
       ]
      },
      {
       "output_type": "stream",
       "stream": "stdout",
       "text": [
        "\n",
        "The 5 most common* words with 19 letters are:\n",
        "                    answer  counts\n",
        "81912  YOURETHEONLYTENISEE       1\n",
        "36082  ITHINKTHEREFOREIHAM       1\n",
        "25404  FLAIRTRAFFICCONTROL       1\n",
        "26654  FRONTIERSTANZAQUEST       1\n",
        "29326  GREENAROUNDTHEGILLS       1\n",
        "\n",
        "[5 rows x 2 columns]\n",
        "The 5 most common* words with 20 letters are:\n",
        "                     answer  counts\n",
        "5722   ATREEGROWSINBROOKLYN       2\n",
        "81929  YOURRESULTSMAYDIFFER       1\n",
        "29217  GRAVEYARDINDODGECITY       1\n",
        "19299  DONOTLETANYONERUSSIA       1\n",
        "19475  DOROTHYLAMOURSSARONG       1\n",
        "\n",
        "[5 rows x 2 columns]\n",
        "The 5 most common* words with 21 letters are:\n",
        "                      answer  counts\n",
        "81976  YSOSSLIOVALPNEAFJVJZC       1\n",
        "30309  HANGUPYOURSTOCKINGSDO       1\n",
        "32227  HOMEWORKISDUEONMONDAY       1\n",
        "32170  HOMEFORTHEHOLLANDAISE       1\n",
        "31968  HOCKEYPLAYERASFACEOFF       1\n",
        "\n",
        "[5 rows x 2 columns]\n",
        "The 5 most common* words with 22 letters are:\n",
        "                       answer  counts\n",
        "73115  THEPAWOFHISDECEASEDCAT       1\n",
        "72970  THELONGGOODBYECOLUMBUS       1\n",
        "71718  TEACHERSTRIKESIDLEKIDS       1\n",
        "69948  SUBTITLEDAPARIOTICSONG       1\n",
        "68598  STARTWORKATEIGHTOCLOCK       1\n",
        "\n",
        "[5 rows x 2 columns]\n",
        "The 5 most common* words with 23 letters are:\n",
        "                        answer  counts\n",
        "81026  WORLDSTALLESTSKYSCRAPER       1\n",
        "77638  UPINTHETOPANDBOTTOMROWS       1\n",
        "5551   ATHEATRICALENDINGHAMIAM       1\n",
        "5819   ATTHETABLEOFBROTHERHOOD       1\n",
        "7436   BEABLETOSITDOWNTOGETHER       1\n",
        "\n",
        "[5 rows x 2 columns]\n",
        "The 5 most common* words with 24 letters are:\n",
        "                         answer  counts\n",
        "73377  THEUNITEDSTATESOFAMERICA       1\n",
        "\n",
        "[1 rows x 2 columns]\n",
        "* Note: there is no distinguishment between ties\n"
       ]
      }
     ],
     "prompt_number": 198
    },
    {
     "cell_type": "code",
     "collapsed": false,
     "input": [
      "print df['clue'][df['answer']=='WORLDSTALLESTSKYSCRAPER'][44977]"
     ],
     "language": "python",
     "metadata": {},
     "outputs": [
      {
       "output_type": "stream",
       "stream": "stdout",
       "text": [
        "The subject of this puzzle, on 5/1/31, the day it opened\n"
       ]
      }
     ],
     "prompt_number": 282
    },
    {
     "cell_type": "code",
     "collapsed": false,
     "input": [
      "df['clue'].ix[df['answer']=='ERA']"
     ],
     "language": "python",
     "metadata": {},
     "outputs": [
      {
       "metadata": {},
       "output_type": "pyout",
       "prompt_number": 66,
       "text": [
        "1621                       Pitcher's stat\n",
        "2083             Big name in home selling\n",
        "9977                     Piece of history\n",
        "10779           One for the history books\n",
        "16158      Stat that's good when it's low\n",
        "17231                          Common ___\n",
        "20772       Failed 70's-80's polit. cause\n",
        "21276                 ___ of Good Feeling\n",
        "27037                                 NaN\n",
        "27272                                 NaN\n",
        "28638                     Prohibition ___\n",
        "28823                    Group of periods\n",
        "29293               Unit of geologic time\n",
        "30745    Stat that's good when under 3.00\n",
        "31543                     Tide competitor\n",
        "...\n",
        "413792                        Slice of history\n",
        "414955                             Time piece?\n",
        "415000                 Big name in real estate\n",
        "416018                        Old polit. cause\n",
        "416538                            Gaslight ___\n",
        "417188                            Diamond stat\n",
        "417318                          Part of B.C.E.\n",
        "418104                           Christian ___\n",
        "419531    The Thatcher years, e.g., in Britain\n",
        "420952                         Pitcher's stat.\n",
        "421108                         Time in history\n",
        "422717                 Brand at the laundromat\n",
        "423881                      Baseball card stat\n",
        "428018                       1970's-80's cause\n",
        "431129                         All alternative\n",
        "Name: CLUE, Length: 323, dtype: object"
       ]
      }
     ],
     "prompt_number": 66
    },
    {
     "cell_type": "code",
     "collapsed": false,
     "input": [
      "plt.hist(df['ans_len'],bins=21)\n",
      "plt.title('Histogram of answer length in crossword puzzles')"
     ],
     "language": "python",
     "metadata": {},
     "outputs": [
      {
       "metadata": {},
       "output_type": "pyout",
       "prompt_number": 274,
       "text": [
        "<matplotlib.text.Text at 0x1278b9a10>"
       ]
      },
      {
       "metadata": {},
       "output_type": "display_data",
       "png": "[encoded data removed]",
       "text": [
        "<matplotlib.figure.Figure at 0x11e4fafd0>"
       ]
      }
     ],
     "prompt_number": 274
    },
    {
     "cell_type": "markdown",
     "metadata": {},
     "source": [
      "The uptick at 15 is likely due to the fact that most crossword puzzles are 15 by 15, and it is common to have answers spanning the board."
     ]
    },
    {
     "cell_type": "code",
     "collapsed": false,
     "input": [
      "grouped = df.groupby('ans_len',as_index=False)\n",
      "c = grouped['clue_len'].agg({'avg_len': mean})"
     ],
     "language": "python",
     "metadata": {},
     "outputs": [],
     "prompt_number": 202
    },
    {
     "cell_type": "code",
     "collapsed": false,
     "input": [
      "print c"
     ],
     "language": "python",
     "metadata": {},
     "outputs": [
      {
       "output_type": "stream",
       "stream": "stdout",
       "text": [
        "    ans_len    avg_len\n",
        "0         3  16.938324\n",
        "1         4  16.617226\n",
        "2         5  17.049187\n",
        "3         6  17.098962\n",
        "4         7  17.812470\n",
        "5         8  18.529776\n",
        "6         9  20.067738\n",
        "7        10  22.048788\n",
        "8        11  24.342903\n",
        "9        12  25.507540\n",
        "10       13  25.661063\n",
        "11       14  26.064113\n",
        "12       15  24.475235\n",
        "13       16  28.901695\n",
        "14       17  30.819328\n",
        "15       18  33.883562\n",
        "16       19  35.310000\n",
        "17       20  31.836957\n",
        "18       21  28.981203\n",
        "19       22  25.636364\n",
        "20       23  30.718750\n",
        "21       24  15.000000\n",
        "\n",
        "[22 rows x 2 columns]\n"
       ]
      }
     ],
     "prompt_number": 203
    },
    {
     "cell_type": "code",
     "collapsed": false,
     "input": [
      "plt.plot(c.ans_len,c.avg_len,'o')\n",
      "plt.xlabel('Answer length')\n",
      "plt.ylabel('Clue length')"
     ],
     "language": "python",
     "metadata": {},
     "outputs": [
      {
       "metadata": {},
       "output_type": "pyout",
       "prompt_number": 206,
       "text": [
        "<matplotlib.text.Text at 0x1222dd390>"
       ]
      },
      {
       "metadata": {},
       "output_type": "display_data",
       "png": "[encoded data removed]",
       "text": [
        "<matplotlib.figure.Figure at 0x10eabb250>"
       ]
      }
     ],
     "prompt_number": 206
    },
    {
     "cell_type": "markdown",
     "metadata": {},
     "source": [
      "Unsurprisingly, the longer clues tend to be fore longer answers. Off course, as the length of both are known, this information isn't particularly useful."
     ]
    },
    {
     "cell_type": "code",
     "collapsed": false,
     "input": [
      "letter_count = dict()\n",
      "letters = 'ABCDEFGHIJKLMNOPQRSTUVWXYZ'\n",
      "for i in letters:\n",
      "    letter_count[i] = 0\n",
      "for i in df['ans']:\n",
      "    if len(i) > 2:\n",
      "        for j in i:\n",
      "            letter_count[j]+=1"
     ],
     "language": "python",
     "metadata": {},
     "outputs": [],
     "prompt_number": 245
    },
    {
     "cell_type": "code",
     "collapsed": false,
     "input": [
      "l_count = pd.DataFrame()\n",
      "l_count['letter'] = ['A','B','C','D','E','F','G','H','I','J','K','L','M','N','O','P','Q','R','S','T','U','V','W','X','Y','Z']\n",
      "l_count['count'] = 0\n",
      "for i in l_count['letter']:\n",
      "    l_count['count'][l_count['letter']==i] = letter_count[i]"
     ],
     "language": "python",
     "metadata": {},
     "outputs": [],
     "prompt_number": 271
    },
    {
     "cell_type": "code",
     "collapsed": false,
     "input": [
      "ggplot(aes(x='letter', weight='count'), l_count) + geom_bar()"
     ],
     "language": "python",
     "metadata": {},
     "outputs": [
      {
       "metadata": {},
       "output_type": "display_data",
       "png": "[encoded data removed]",
       "text": [
        "<matplotlib.figure.Figure at 0x14a766650>"
       ]
      },
      {
       "metadata": {},
       "output_type": "pyout",
       "prompt_number": 273,
       "text": [
        "<ggplot: (346520949)>"
       ]
      }
     ],
     "prompt_number": 273
    },
    {
     "cell_type": "markdown",
     "metadata": {},
     "source": [
      "Compare this with the full English letter frequency (http://en.wikipedia.org/wiki/Letter_frequency#mediaviewer/File:English_letter_frequency_(alphabetic).svg), and you'll notice that the biggest difference lies in the letters, E, H, and T, which conveniently spell out the word \"THE\", which is much more likely to be used outside of the crossword puzzle realm. Besides that, A's and S's are overrepresented."
     ]
    }
   ],
   "metadata": {}
  }
 ]
}